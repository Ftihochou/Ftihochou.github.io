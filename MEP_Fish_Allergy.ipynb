{
  "nbformat": 4,
  "nbformat_minor": 0,
  "metadata": {
    "colab": {
      "provenance": [],
      "authorship_tag": "ABX9TyNhfQWYsRLtIXwep88PjTIR",
      "include_colab_link": true
    },
    "kernelspec": {
      "name": "python3",
      "display_name": "Python 3"
    },
    "language_info": {
      "name": "python"
    }
  },
  "cells": [
    {
      "cell_type": "markdown",
      "metadata": {
        "id": "view-in-github",
        "colab_type": "text"
      },
      "source": [
        "<a href=\"https://colab.research.google.com/github/Ftihochou/Ftihochou.github.io/blob/main/MEP_Fish_Allergy.ipynb\" target=\"_parent\"><img src=\"https://colab.research.google.com/assets/colab-badge.svg\" alt=\"Open In Colab\"/></a>"
      ]
    },
    {
      "cell_type": "code",
      "source": [
        "!pip install biopython"
      ],
      "metadata": {
        "colab": {
          "base_uri": "https://localhost:8080/"
        },
        "id": "IXgtrkqEGqj5",
        "outputId": "f7188f7a-769a-4a59-b26a-1820c94b3902"
      },
      "execution_count": 2,
      "outputs": [
        {
          "output_type": "stream",
          "name": "stdout",
          "text": [
            "Collecting biopython\n",
            "  Downloading biopython-1.84-cp310-cp310-manylinux_2_17_x86_64.manylinux2014_x86_64.whl.metadata (12 kB)\n",
            "Requirement already satisfied: numpy in /usr/local/lib/python3.10/dist-packages (from biopython) (1.26.4)\n",
            "Downloading biopython-1.84-cp310-cp310-manylinux_2_17_x86_64.manylinux2014_x86_64.whl (3.2 MB)\n",
            "\u001b[?25l   \u001b[90m━━━━━━━━━━━━━━━━━━━━━━━━━━━━━━━━━━━━━━━━\u001b[0m \u001b[32m0.0/3.2 MB\u001b[0m \u001b[31m?\u001b[0m eta \u001b[36m-:--:--\u001b[0m\r\u001b[2K   \u001b[91m━━━━━━━━━━━━━━━━━━━━━━━\u001b[0m\u001b[91m╸\u001b[0m\u001b[90m━━━━━━━━━━━━━━━━\u001b[0m \u001b[32m1.9/3.2 MB\u001b[0m \u001b[31m56.6 MB/s\u001b[0m eta \u001b[36m0:00:01\u001b[0m\r\u001b[2K   \u001b[90m━━━━━━━━━━━━━━━━━━━━━━━━━━━━━━━━━━━━━━━━\u001b[0m \u001b[32m3.2/3.2 MB\u001b[0m \u001b[31m49.0 MB/s\u001b[0m eta \u001b[36m0:00:00\u001b[0m\n",
            "\u001b[?25hInstalling collected packages: biopython\n",
            "Successfully installed biopython-1.84\n"
          ]
        }
      ]
    },
    {
      "cell_type": "code",
      "source": [
        "from Bio import SeqIO  # Import Biopython's SeqIO module\n",
        "\n",
        "# Path to your uploaded FASTA file\n",
        "fasta_file = \"/content/Official fish parvalbumins for ML.fasta\"\n",
        "\n",
        "# Parse the FASTA file\n",
        "sequences = []\n",
        "for record in SeqIO.parse(fasta_file, \"fasta\"):\n",
        "    print(f\"ID: {record.id}\")  # Print sequence ID\n",
        "    print(f\"Sequence: {record.seq[:50]}...\")  # Print first 50 characters of the sequence\n",
        "    sequences.append({\"id\": record.id, \"sequence\": str(record.seq)})\n",
        "\n",
        "print(f\"Total sequences loaded: {len(sequences)}\")"
      ],
      "metadata": {
        "colab": {
          "base_uri": "https://localhost:8080/"
        },
        "id": "Nw0e-DvgGyhY",
        "outputId": "551f4f74-93d2-444f-eb87-20d53d31320e"
      },
      "execution_count": 3,
      "outputs": [
        {
          "output_type": "stream",
          "name": "stdout",
          "text": [
            "ID: tr|E0WDA1|E0WDA1_CLUHA\n",
            "Sequence: MAFAAFLKEADITAALGACKGADSFDHKAFFAKVGLKGKSGDELKKAFEI...\n",
            "ID: tr|E0WDA6|E0WDA6_CLUHA\n",
            "Sequence: MAFAGLLSDADIAAALGACTAADTFDHKSFFKEVGLSGKSADDVKKAFYI...\n",
            "ID: tr|C6GKU6|C6GKU6_CLUHA\n",
            "Sequence: MALASLLKGADIDAALKACEAKDSFKHKDFFAKIGLATKSAADLKKAFEI...\n",
            "ID: tr|C6GKU7|C6GKU7_CLUHA\n",
            "Sequence: MAFAGLLSDADIAAALGACTAADTFDHKSFFKKVGLSGKSADDVKKPFYI...\n",
            "ID: tr|C6GKU8|C6GKU8_CLUHA\n",
            "Sequence: MAFAAFLKEADITAALGACKGADSFDHKAFFAKVGLKGKSGDELKKAFEI...\n",
            "ID: tr|E0WDA7|E0WDA7_CLUHA\n",
            "Sequence: KDSFKHKDFFAKIGLATKSAADLKKAFEIIDQDKSGFIEEEELKLFLQNF...\n",
            "ID: tr|B3WFF7|B3WFF7_9TELE\n",
            "Sequence: MALAGLVKEADITAALEACKAADSFDHKAFFHKVGMSGKSADELKKAFAI...\n",
            "ID: tr|E0WD92|E0WD92_CYPCA\n",
            "Sequence: MAFAGILNDADITAALQGCKAADSFDYKSFFAKVGLSAKTPDDIKKAFAV...\n",
            "ID: sp|P09227|PRVA_CYPCA\n",
            "Sequence: MAYGGILNDADITAALEACXAXDSFNAKSFFAKVGLSAKTPDDIKKAFAV...\n",
            "ID: tr|E0WD93|E0WD93_CYPCA\n",
            "Sequence: MAFAGVLNDADIAAALEACKAADSFNHKAFFAKVGLTSKSADDVKKAFAI...\n",
            "ID: sp|P02618|PRVB_CYPCA\n",
            "Sequence: AFAGVLNDADIAAALEACKAADSFNHKAFFAKVGLTSKSADDVKKAFAII...\n",
            "ID: tr|Q8UUS3|Q8UUS3_CYPCA\n",
            "Sequence: MAFAGILNDADITAALQGCQAADSFDYKSFFAKVGLSAKTPDDIKKAFAV...\n",
            "ID: tr|Q8UUS2|Q8UUS2_CYPCA\n",
            "Sequence: MAFAGVLNDADITAALEACKAADSFNHKTFFAKVGLTSKSADDVKKAFAI...\n",
            "ID: sp|P02622|PRVB_GADMC\n",
            "Sequence: AFKGILSNADIKAAEAACFKEGSFDEDGFYAKVGLDAFSADELKKLFKIA...\n",
            "ID: tr|Q90YL0|Q90YL0_GADMO\n",
            "Sequence: MAFAGILADADCAAAVKACEAAESFSYKAFFAKCGLSGKSADDIKKAFFV...\n",
            "ID: tr|A5I873|A5I873_GADMO\n",
            "Sequence: MAFAGILADADCAAAVKACEAAESFSYKAFFAKCGLSGKSADDIKKAFFV...\n",
            "ID: sp|Q90YK9|PRVB_GADMO\n",
            "Sequence: MAFAGILNDADITAALAACKAEGSFDHKAFFTKVGLAAKSPADIKKVFEI...\n",
            "ID: tr|A5I874|A5I874_GADMO\n",
            "Sequence: MAFAGILNDADITAALAACKAEGSFDHKAFFTKVGLAAKSSADIKKVFEI...\n",
            "ID: tr|Q6ITV0|Q6ITV0_LATCA\n",
            "Sequence: MAFAGILNEADITAALAACQAADSFKHKDFFVKVGLAGKSDDDVKKAFAV...\n",
            "ID: tr|Q5IRB2|Q5IRB2_LATCA\n",
            "Sequence: MAFAGILNEADITAALAACQAADSFKHKDFFVKVGLAGKSDDDVKKAFAV...\n",
            "ID: tr|Q6ITU9|Q6ITU9_LATCA\n",
            "Sequence: MAFSNVLSDSDVAAALDGCKDAGTFDHKKFFSACGLSNKTSDDVKKAFAI...\n",
            "ID: tr|C6GKU3|C6GKU3_THUAL\n",
            "Sequence: MAFAGILTEADITAALAACQAADSFKYKDFFTKVGLAAKTPEDIKKAFAV...\n",
            "ID: tr|B9W4C2|B9W4C2_XIPGL\n",
            "Sequence: MAFAGVLSDADVAAALEACKDAGTFDYKKFFKSCGLAAKSTDDVKKAFAI...\n",
            "ID: tr|B5WX08|B5WX08_9PLEU\n",
            "Sequence: MTFAGLDAAEIKAALDGCAAADSFDYKKFFGACGLAKKSAEEVKAAFNKI...\n",
            "ID: tr|E0WDA2|E0WDA2_ONCMY\n",
            "Sequence: MACAHLCKEADIKTALEACKAADSFNFKTFFHTIGFASKSADDVKKAFKV...\n",
            "ID: tr|E0WDA3|E0WDA3_ONCMY\n",
            "Sequence: MAFAGLNDADVAAALAACTAADSFNHKAFFAKVGLAGKSNDDVKKAFYVI...\n",
            "ID: tr|E0WDA4|E0WDA4_ONCMY\n",
            "Sequence: MACAHLCKEADIKTALEACKAADSFNFKTFFHTIGFASKSADDVKKAFKV...\n",
            "ID: sp|P86431|PRVB1_ONCMY\n",
            "Sequence: ACAHLCKEADLKTALEACKAADSFNFKTFFHTLGFASKXXDDVKKXXXVL...\n",
            "ID: sp|P86432|PRVB2_ONCMY\n",
            "Sequence: SFAGLNDADVAAALAACAAADSFNHKAFFAKXXXXXXSPDDLKKXXXXLD...\n",
            "ID: tr|B5DH16|B5DH16_SALSA\n",
            "Sequence: MSFAGLNDADVAAALAACTAADSFNHKAFFAKVGLASKSSDDVKKAFYVI...\n",
            "ID: tr|E0WD99|E0WD99_SALSA\n",
            "Sequence: MAFAGLNDADVAAALAACTAADSFNHKAFFAKVGLAGKSNDDVKKAFYVI...\n",
            "ID: tr|B5DH17|B5DH17_SALSA\n",
            "Sequence: MACAHLCKEADIKTALEARKAADTFNFKTFFHTIGFASKSADDVKKAFKV...\n",
            "ID: tr|B5DH15|B5DH15_SALSA\n",
            "Sequence: MACAHLCKEADIKTALEACKAADTFNFKTFFHTIGFASKSADDVKKAFKV...\n",
            "ID: tr|E0WD98|E0WD98_SALSA\n",
            "Sequence: MACAHLCKDADIKTALEACKAADTFNFKTFFHTIGFASKSADDVKKAFKV...\n",
            "ID: sp|Q91482|PRVB1_SALSA\n",
            "Sequence: MACAHLCKEADIKTALEACKAADTFSFKTFFHTIGFASKSADDVKKAFKV...\n",
            "ID: sp|Q91483|PRVB2_SALSA\n",
            "Sequence: MSFAGLNDADVAAALAACTAADSFNHKAFFAKVGLASKSSDDVKKAFYVI...\n",
            "ID: tr|E0WD96|E0WD96_9TELE\n",
            "Sequence: MALAASLNAADITAALAACSGVDTFKHKDFFGKVGLSAKSADDIKNAFKV...\n",
            "ID: tr|C6GKU4|C6GKU4_9TELE\n",
            "Sequence: MALAASLNAADITAALAACSGVDTFKHKDFFGKVGLSAKSADDIKNAFKV...\n",
            "ID: tr|C6GKU5|C6GKU5_9TELE\n",
            "Sequence: MAFASVGLKDADIAAALDGCKDAGKFNHKTFFKTCGLSGKSSDEVKKAFA...\n",
            "ID: tr|A0A4Y5R730|A0A4Y5R730_CTEID\n",
            "Sequence: MAFAGILNDADIAAALEACKAADSFNHKAFFAKVGLSAKSGDDVKKAFAI...\n",
            "ID: XP_026772003.1\n",
            "Sequence: MAFAGVLNDADIAAALDACKADGSFDHKAFFTKVGLTGKSADDVKKAFSI...\n",
            "ID: XP_026803769.1\n",
            "Sequence: MAMQDLLKADDIKKALDTFKVADTFDHKKFFELVGLKAMSAENVKKVFSV...\n",
            "ID: XP_035472139.1\n",
            "Sequence: MAFKGVLDDAKITAALEECKKPESFCHKKFFGTCGLSAKSPADVKAAFDI...\n",
            "ID: XP_035472137.1\n",
            "Sequence: MSFAGLNAAEIKTALDGCAAADTFNYKKFFGACGLAKKSADDVKAAFQII...\n",
            "ID: COMPARE00476\n",
            "Sequence: SGFIEEDELK...\n",
            "ID: COMPARE149\n",
            "Sequence: LFLKNFSATAR...\n",
            "ID: COMPARE148\n",
            "Sequence: ALLAAGDSDHDGKIGADEFAK...\n",
            "ID: COMPARE147\n",
            "Sequence: EVFEILDKDQSGFIEEEELK...\n",
            "ID: COMPARE147\n",
            "Sequence: EVFEILDKDQSGFIEEEELK...\n",
            "ID: ANW10058.1\n",
            "Sequence: MAFASVLKDAEITAALDGCKADGSFDHKKFFKACGLAGKSGDDVKKAFAI...\n",
            "ID: XP_008286259.1\n",
            "Sequence: KAFAIIDQDKSGFIEEDELKLFLQNFSAGAR...\n",
            "ID: P86749.1\n",
            "Sequence: AFAGILADADITAALAACKAEGTFTHGEFFTKIGLKGKSAADIKKVFGII...\n",
            "ID: P02620.1\n",
            "Sequence: AFAGILADADITAALAACKAEGSFKHGEFFTKIGLKGKSAADIKKVFGII...\n",
            "ID: P86761.1\n",
            "Sequence: AFAGILADADITAALAACKAEGTFKHGEFFTKIGLKGKSAADIKKVFGII...\n",
            "ID: P86768.1\n",
            "Sequence: AFAGILADADITAALAACKAEGTFKHGEFFTKIGLKGKSPADIKKVFGII...\n",
            "ID: P86774.1\n",
            "Sequence: AFAGILADADITAALAACKAEGTFKHGEFFTKIGLKGKSAADIKKVFGII...\n",
            "ID: P86741.1\n",
            "Sequence: AFAGILADADCAAALKACEAADSFNYKAFFAKVGLASKSAEEIKKAFFVI...\n",
            "ID: P86750.1\n",
            "Sequence: AFSGILAEADIAAALKACEAADSFNYKAFFAKVGLSAKSADDIKKAFFVI...\n",
            "ID: P86752.1\n",
            "Sequence: AFAGILADADIAAALAACKAEGSFKHGEYFAKIGLKGKSAADIKKVFGII...\n",
            "ID: P86757.1\n",
            "Sequence: AFSGILAEADIAAALKACEAAGTFNYKAFFAKVGLTGKSADDIKKAFFVI...\n",
            "ID: P86769.1\n",
            "Sequence: AFSGILAEADIAAALKACEAAGTFNYKAFFAKVGLTGKSADDIKKAFFVI...\n",
            "ID: P86771.1\n",
            "Sequence: AFSGILAEADIAAALKACEAAGTFNYKAFFAKVGLTGKSADDIKKAFFVI...\n",
            "ID: P86775.1\n",
            "Sequence: AFSGILAEADIAAALKACAAADTFNYKAFFAKVGLSAKSADDIKKAFFVI...\n",
            "ID: P86740.1\n",
            "Sequence: TFFKSNDDVKKAFFVIDQDKSGFIEEDELKLFLQNFSAGARALTAGETKT...\n",
            "ID: P86742.1\n",
            "Sequence: SFNYKTFFKLAAKSNDDVKKAFFVIDQDKSGFIEEDELKLFLQNFSAGAR...\n",
            "ID: P86753.1\n",
            "Sequence: AFSGILADADIAAALKACEAADSFNYKAFFAKVGLSAKSAEDIKKAFFVI...\n",
            "ID: P86770.1\n",
            "Sequence: AFAGVLADADIKAALAGCAAAESFNYKTFFKACGLAGKFFAIIDQDHSGF...\n",
            "ID: P86772.1\n",
            "Sequence: AFAGVLADADIKAALAGCAAAESFNYKTFFKFFAIIDQDHSGFIEEEELK...\n",
            "ID: P86754.1\n",
            "Sequence: AFAGVLADADIKAALAGCAAADSFNYKTFFKACGLFFAIIDQDHSGFIEE...\n",
            "ID: P86760.1\n",
            "Sequence: AFAGVLADADIKAALAGCAAADSFNYKTFFKFFAIIDQDHSGFIEEEELK...\n",
            "ID: BAK09232.1\n",
            "Sequence: MPFKGLQDADVAKALEGCKDAGTFDHKKFFHACGLSGKSGADVKDAFFVI...\n",
            "ID: P86739.1\n",
            "Sequence: SFAGILDDADITAALAACKAEGSFKHVEFFAKIGLAGKKVFAIIDQDKSD...\n",
            "ID: P86745.1\n",
            "Sequence: AFAGILADADITAALAACKAEGTFTHGVFFTKIGLKGKSAADIKKVFGII...\n",
            "ID: CAX32967.1\n",
            "Sequence: MAFAGLNDADVAAALAACTAADSFNHKAFFAKVGLAGKSNDDVKKAFYVI...\n",
            "ID: CAX32966.1\n",
            "Sequence: MACAHLCKEADIKTALEACKAADSFNFKTFFHTIGFASKSADDVKKAFKV...\n",
            "ID: CAX32965.1\n",
            "Sequence: MAFASVLKDAEITAALDGCKAAGSFDHKKFFKACGLSGKSADEVKKAFAI...\n",
            "ID: AAK63088.1\n",
            "Sequence: MSFAGVLADADVKAALAGCAAADSFNYKTFFKACGLAAKSHEEVKKAFFV...\n",
            "ID: BAE46763.1\n",
            "Sequence: MAFKGVLNDADVTAALDGCKSAFDHKAFFKACGLAAKSADDIKKAFAIID...\n",
            "Total sequences loaded: 78\n"
          ]
        }
      ]
    },
    {
      "cell_type": "code",
      "source": [
        "# Save processed data to a new file\n",
        "import csv\n",
        "\n",
        "output_file = \"/content/processed_sequences.csv\"\n",
        "with open(output_file, mode=\"w\", newline=\"\") as file:\n",
        "    writer = csv.writer(file)\n",
        "    writer.writerow([\"ID\", \"Sequence\"])  # Header\n",
        "    for seq in sequences:\n",
        "        writer.writerow([seq[\"id\"], seq[\"sequence\"]])\n",
        "\n",
        "print(f\"Processed data saved to: {output_file}\")\n"
      ],
      "metadata": {
        "colab": {
          "base_uri": "https://localhost:8080/"
        },
        "id": "Gdht_pH4HBUa",
        "outputId": "3309e95b-a554-4229-cbae-0cc0a9a006c8"
      },
      "execution_count": 4,
      "outputs": [
        {
          "output_type": "stream",
          "name": "stdout",
          "text": [
            "Processed data saved to: /content/processed_sequences.csv\n"
          ]
        }
      ]
    },
    {
      "cell_type": "code",
      "source": [
        "# Function to fragment sequences using a sliding window\n",
        "def generate_fragments(sequence, window_size=15, step=1):\n",
        "    fragments = []\n",
        "    for i in range(0, len(sequence) - window_size + 1, step):\n",
        "        fragments.append(sequence[i:i + window_size])\n",
        "    return fragments\n",
        "\n",
        "# Apply sliding window to all sequences\n",
        "window_size = 15  # You can adjust this size\n",
        "step_size = 1\n",
        "all_fragments = []  # To store all fragments\n",
        "for seq in sequences:\n",
        "    fragments = generate_fragments(seq[\"sequence\"], window_size, step_size)\n",
        "    all_fragments.extend(fragments)\n",
        "\n",
        "print(f\"Total fragments generated: {len(all_fragments)}\")\n",
        "print(f\"Example fragment: {all_fragments[0]}\")\n"
      ],
      "metadata": {
        "colab": {
          "base_uri": "https://localhost:8080/"
        },
        "id": "QHvRdjR2HXaJ",
        "outputId": "c389dd73-3981-486a-9598-678f57b6f35a"
      },
      "execution_count": 5,
      "outputs": [
        {
          "output_type": "stream",
          "name": "stdout",
          "text": [
            "Total fragments generated: 6668\n",
            "Example fragment: MAFAAFLKEADITAA\n"
          ]
        }
      ]
    },
    {
      "cell_type": "code",
      "source": [
        "import random\n",
        "\n",
        "# Assign random labels (replace this with real labels later)\n",
        "labels = [random.choice([0, 1]) for _ in all_fragments]\n",
        "\n",
        "# Combine fragments with labels\n",
        "labeled_data = [{\"fragment\": frag, \"label\": label} for frag, label in zip(all_fragments, labels)]\n",
        "print(f\"First labeled fragment: {labeled_data[0]}\")\n"
      ],
      "metadata": {
        "colab": {
          "base_uri": "https://localhost:8080/"
        },
        "id": "pbS3CmVvHn0P",
        "outputId": "13d21d21-2499-439a-83e5-0d2dac72d6cb"
      },
      "execution_count": 6,
      "outputs": [
        {
          "output_type": "stream",
          "name": "stdout",
          "text": [
            "First labeled fragment: {'fragment': 'MAFAAFLKEADITAA', 'label': 0}\n"
          ]
        }
      ]
    },
    {
      "cell_type": "code",
      "source": [
        "import numpy as np\n",
        "\n",
        "amino_acids = 'ACDEFGHIKLMNPQRSTVWY'\n",
        "\n",
        "def one_hot_encode(sequence):\n",
        "    encoding = np.zeros((len(sequence), len(amino_acids)))\n",
        "    for i, aa in enumerate(sequence):\n",
        "        if aa in amino_acids:\n",
        "            encoding[i][amino_acids.index(aa)] = 1\n",
        "    return encoding.flatten()  # Flatten to a single vector\n",
        "\n",
        "# Example: Encode a single fragment\n",
        "example_encoding = one_hot_encode(all_fragments[0])\n",
        "print(f\"One-hot encoding shape: {example_encoding.shape}\")\n"
      ],
      "metadata": {
        "colab": {
          "base_uri": "https://localhost:8080/"
        },
        "id": "sGGfd7_VHp0Q",
        "outputId": "1a005c5c-50cf-41f8-ab98-c6a562dc8344"
      },
      "execution_count": 7,
      "outputs": [
        {
          "output_type": "stream",
          "name": "stdout",
          "text": [
            "One-hot encoding shape: (300,)\n"
          ]
        }
      ]
    },
    {
      "cell_type": "code",
      "source": [
        "from Bio.SeqUtils.ProtParam import ProteinAnalysis\n",
        "\n",
        "def calculate_physicochemical(sequence):\n",
        "    analysis = ProteinAnalysis(sequence)\n",
        "    return [\n",
        "        analysis.molecular_weight(),\n",
        "        analysis.aromaticity(),\n",
        "        analysis.isoelectric_point(),\n",
        "        analysis.instability_index(),\n",
        "        analysis.gravy(),  # Hydrophobicity\n",
        "    ]\n",
        "\n",
        "# Example: Extract features for a single fragment\n",
        "example_features = calculate_physicochemical(all_fragments[0])\n",
        "print(f\"Physicochemical features: {example_features}\")\n"
      ],
      "metadata": {
        "colab": {
          "base_uri": "https://localhost:8080/"
        },
        "id": "Ne4nCwHjHxUo",
        "outputId": "c9367b7e-0b21-43fe-bb57-65f8984772e3"
      },
      "execution_count": 8,
      "outputs": [
        {
          "output_type": "stream",
          "name": "stdout",
          "text": [
            "Physicochemical features: [1569.8191000000002, 0.13333333333333333, 4.369065666198731, 6.239999999999999, 1.0000000000000004]\n"
          ]
        }
      ]
    },
    {
      "cell_type": "code",
      "source": [
        "# Example: Create feature matrix (X) and label vector (y)\n",
        "X = [one_hot_encode(frag) for frag in all_fragments]  # Feature vectors\n",
        "y = labels  # Labels\n",
        "\n",
        "X = np.array(X)\n",
        "y = np.array(y)\n",
        "\n",
        "print(f\"Feature matrix shape: {X.shape}\")\n",
        "print(f\"Labels shape: {y.shape}\")\n"
      ],
      "metadata": {
        "colab": {
          "base_uri": "https://localhost:8080/"
        },
        "id": "uWobMYa6H50Y",
        "outputId": "6542bd77-6ef5-498f-de93-6708ad7185bd"
      },
      "execution_count": 9,
      "outputs": [
        {
          "output_type": "stream",
          "name": "stdout",
          "text": [
            "Feature matrix shape: (6668, 300)\n",
            "Labels shape: (6668,)\n"
          ]
        }
      ]
    },
    {
      "cell_type": "code",
      "source": [
        "from sklearn.ensemble import RandomForestClassifier\n",
        "from sklearn.model_selection import train_test_split\n",
        "from sklearn.metrics import classification_report\n",
        "\n",
        "# Split data into training and test sets\n",
        "X_train, X_test, y_train, y_test = train_test_split(X, y, test_size=0.2, random_state=42)\n",
        "\n",
        "# Train the model\n",
        "rf_model = RandomForestClassifier(n_estimators=100, random_state=42)\n",
        "rf_model.fit(X_train, y_train)\n",
        "\n",
        "# Evaluate the model\n",
        "y_pred = rf_model.predict(X_test)\n",
        "print(classification_report(y_test, y_pred))\n"
      ],
      "metadata": {
        "colab": {
          "base_uri": "https://localhost:8080/"
        },
        "id": "nOI057sXIAMC",
        "outputId": "84eb3198-e5a9-4b26-ffbb-224bfbe7cf00"
      },
      "execution_count": 10,
      "outputs": [
        {
          "output_type": "stream",
          "name": "stdout",
          "text": [
            "              precision    recall  f1-score   support\n",
            "\n",
            "           0       0.48      0.49      0.49       653\n",
            "           1       0.50      0.49      0.50       681\n",
            "\n",
            "    accuracy                           0.49      1334\n",
            "   macro avg       0.49      0.49      0.49      1334\n",
            "weighted avg       0.49      0.49      0.49      1334\n",
            "\n"
          ]
        }
      ]
    },
    {
      "cell_type": "code",
      "source": [
        "from sklearn.metrics import roc_auc_score, roc_curve\n",
        "import matplotlib.pyplot as plt\n",
        "\n",
        "# Calculate and plot the ROC curve\n",
        "y_probs = rf_model.predict_proba(X_test)[:, 1]  # Probabilities for the positive class\n",
        "fpr, tpr, thresholds = roc_curve(y_test, y_probs)\n",
        "\n",
        "plt.figure()\n",
        "plt.plot(fpr, tpr, label=f\"ROC Curve (AUC = {roc_auc_score(y_test, y_probs):.2f})\")\n",
        "plt.xlabel(\"False Positive Rate\")\n",
        "plt.ylabel(\"True Positive Rate\")\n",
        "plt.legend(loc=\"lower right\")\n",
        "plt.title(\"ROC Curve\")\n",
        "plt.show()\n"
      ],
      "metadata": {
        "colab": {
          "base_uri": "https://localhost:8080/",
          "height": 472
        },
        "id": "MI4TSJf9IAK4",
        "outputId": "59685857-ae10-4c01-f801-cd27981c7af6"
      },
      "execution_count": 11,
      "outputs": [
        {
          "output_type": "display_data",
          "data": {
            "text/plain": [
              "<Figure size 640x480 with 1 Axes>"
            ],
            "image/png": "[encoded data removed]"
          },
          "metadata": {}
        }
      ]
    },
    {
      "cell_type": "code",
      "source": [
        "# Get feature importance\n",
        "importances = rf_model.feature_importances_\n",
        "plt.bar(range(len(importances)), importances)\n",
        "plt.title(\"Feature Importance\")\n",
        "plt.xlabel(\"Features\")\n",
        "plt.ylabel(\"Importance\")\n",
        "plt.show()\n"
      ],
      "metadata": {
        "colab": {
          "base_uri": "https://localhost:8080/",
          "height": 472
        },
        "id": "Ek4NpkKrIQRI",
        "outputId": "e1fd01df-5b27-46a4-8f95-92ce279d3373"
      },
      "execution_count": 12,
      "outputs": [
        {
          "output_type": "display_data",
          "data": {
            "text/plain": [
              "<Figure size 640x480 with 1 Axes>"
            ],
            "image/png": "[encoded data removed]"
          },
          "metadata": {}
        }
      ]
    },
    {
      "cell_type": "code",
      "source": [
        "# Get probabilities for the positive class\n",
        "y_probs = rf_model.predict_proba(X)[:, 1]\n",
        "\n",
        "# Filter fragments with high probabilities\n",
        "threshold = 0.9  # Example: Top 10%\n",
        "top_epitopes = [(frag, prob) for frag, prob in zip(all_fragments, y_probs) if prob > threshold]\n",
        "\n",
        "print(f\"Number of top epitopes: {len(top_epitopes)}\")\n",
        "for epitope, prob in top_epitopes[:5]:  # Display top 5\n",
        "    print(f\"Epitope: {epitope}, Probability: {prob}\")\n"
      ],
      "metadata": {
        "colab": {
          "base_uri": "https://localhost:8080/"
        },
        "id": "usadyj-DIVkh",
        "outputId": "b5b6c497-0d4b-44e0-e253-bb742d73e796"
      },
      "execution_count": 13,
      "outputs": [
        {
          "output_type": "stream",
          "name": "stdout",
          "text": [
            "Number of top epitopes: 464\n",
            "Epitope: DITAALGACKGADSF, Probability: 0.97\n",
            "Epitope: DSFDHKAFFAKVGLK, Probability: 0.95\n",
            "Epitope: KAFFAKVGLKGKSGD, Probability: 0.9386428571428571\n",
            "Epitope: KVGLKGKSGDELKKA, Probability: 0.96\n",
            "Epitope: LKGKSGDELKKAFEI, Probability: 0.958030303030303\n"
          ]
        }
      ]
    }
  ]
}